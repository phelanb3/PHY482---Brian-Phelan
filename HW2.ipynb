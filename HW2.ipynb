{
 "cells": [
  {
   "cell_type": "markdown",
   "metadata": {},
   "source": [
    "Brian Phelan\n",
    "\n",
    "**26 January 2018**\n",
    "\n",
    "*HW2*"
   ]
  },
  {
   "cell_type": "markdown",
   "metadata": {},
   "source": [
    "# Problem 6:"
   ]
  },
  {
   "cell_type": "markdown",
   "metadata": {},
   "source": [
    "Part 1:"
   ]
  },
  {
   "cell_type": "code",
   "execution_count": 1,
   "metadata": {},
   "outputs": [
    {
     "data": {
      "application/javascript": [
       "require.undef(\"nbextensions/vpython_libraries/glow.min\");"
      ],
      "text/plain": [
       "<IPython.core.display.Javascript object>"
      ]
     },
     "metadata": {},
     "output_type": "display_data"
    },
    {
     "data": {
      "application/javascript": [
       "require.undef(\"nbextensions/vpython_libraries/glowcomm\");"
      ],
      "text/plain": [
       "<IPython.core.display.Javascript object>"
      ]
     },
     "metadata": {},
     "output_type": "display_data"
    },
    {
     "data": {
      "application/javascript": [
       "require.undef(\"nbextensions/vpython_libraries/jquery-ui.custom.min\");"
      ],
      "text/plain": [
       "<IPython.core.display.Javascript object>"
      ]
     },
     "metadata": {},
     "output_type": "display_data"
    },
    {
     "data": {
      "application/javascript": [
       "require([\"nbextensions/vpython_libraries/glow.min\"], function(){console.log(\"GLOW LOADED\");})"
      ],
      "text/plain": [
       "<IPython.core.display.Javascript object>"
      ]
     },
     "metadata": {},
     "output_type": "display_data"
    },
    {
     "data": {
      "application/javascript": [
       "require([\"nbextensions/vpython_libraries/glowcomm\"], function(){console.log(\"GLOWCOMM LOADED\");})"
      ],
      "text/plain": [
       "<IPython.core.display.Javascript object>"
      ]
     },
     "metadata": {},
     "output_type": "display_data"
    },
    {
     "data": {
      "application/javascript": [
       "require([\"nbextensions/vpython_libraries/jquery-ui.custom.min\"], function(){console.log(\"JQUERY LOADED\");})"
      ],
      "text/plain": [
       "<IPython.core.display.Javascript object>"
      ]
     },
     "metadata": {},
     "output_type": "display_data"
    },
    {
     "data": {
      "text/html": [
       "<div id=\"glowscript\" class=\"glowscript\"></div>"
      ],
      "text/plain": [
       "<IPython.core.display.HTML object>"
      ]
     },
     "metadata": {},
     "output_type": "display_data"
    },
    {
     "data": {
      "application/javascript": [
       "window.__context = { glowscript_container: $(\"#glowscript\").removeAttr(\"id\")}"
      ],
      "text/plain": [
       "<IPython.core.display.Javascript object>"
      ]
     },
     "metadata": {},
     "output_type": "display_data"
    }
   ],
   "source": [
    "from __future__ import division, print_function\n",
    "from vpython import *\n",
    "from math import *"
   ]
  },
  {
   "cell_type": "code",
   "execution_count": 2,
   "metadata": {},
   "outputs": [
    {
     "data": {
      "text/html": [
       "<div id=\"glowscript\" class=\"glowscript\"></div>"
      ],
      "text/plain": [
       "<IPython.core.display.HTML object>"
      ]
     },
     "metadata": {},
     "output_type": "display_data"
    },
    {
     "data": {
      "application/javascript": [
       "window.__context = { glowscript_container: $(\"#glowscript\").removeAttr(\"id\")}"
      ],
      "text/plain": [
       "<IPython.core.display.Javascript object>"
      ]
     },
     "metadata": {},
     "output_type": "display_data"
    },
    {
     "name": "stdout",
     "output_type": "stream",
     "text": [
      "The net electric field =  <0.000000, 0.000000, 0.000000> N/C\n",
      "The net electric field =  <-3267.029234, -3267.029234, 0.000000> N/C\n",
      "The net electric field =  <13468.862630, 0.000000, 0.000000> N/C\n"
     ]
    }
   ],
   "source": [
    "scene=canvas(title=\"Electric field due to uniformly charged ring\")\n",
    "scene.background=color.white\n",
    "scene.camera.rotate(angle=0.4,axis=vector(-1,-1,0),origin=vector(0,0.02,0))\n",
    "\n",
    "R=0.02 #radius of ring in m\n",
    "Q=1e-9 #charge of ring in C\n",
    "N=100 #number of unique pieces\n",
    "\n",
    "oofpez=9e9 #1/(4pi epsilon_0) in N m^2/C^2\n",
    "dq=Q/N #charge of a piece\n",
    "dtheta=2*pi/N #theta increment for our loop\n",
    "theta=dtheta/2 #initial theta for first piece of loop\n",
    "\n",
    "#draw the objects\n",
    "Enet=vector(0,0,0) #net electric field of all pieces\n",
    "point=sphere(pos=vector(0,0,0), color=color.black, radius=0.0005)\n",
    "\n",
    "rpoint=point.pos #location of the point in space to calculate E field\n",
    "scale=1.2*mag(rpoint)/8000 #used to scale the arrows representing E-field\n",
    "\n",
    "while theta<2*pi:\n",
    "    rpiece=R*vector(cos(theta),sin(theta),0) #location of piece\n",
    "    r=rpoint-rpiece #vector from piece to point in space\n",
    "    rmag=mag(r) #magnitude of r\n",
    "    rhat=norm(r) #unit vector for r\n",
    "    dE=oofpez*dq/rmag/rmag*rhat #Electric field due to piece at rpoint\n",
    "    Enet=Enet+dE #net electric field of the first one up to this one\n",
    "    particle=sphere(pos=rpiece, radius=4*point.radius, color=color.yellow, opacity = 0.2) #draw a particle at center of piece\n",
    "    theta=theta+dtheta\n",
    "\n",
    "print(\"The net electric field = \",Enet, \"N/C\")\n",
    "Evector1=arrow(pos=rpoint, axis=scale*Enet, color=color.green, shaftwidth=point.radius/2)\n",
    "\n",
    "theta=dtheta/2\n",
    "\n",
    "#draw the objects\n",
    "Enet1=vector(0,0,0)\n",
    "point1=sphere(pos=vector(0.005,0.005,0), color=color.black, radius=0.0005)\n",
    "\n",
    "rpoint1=point1.pos #location of the point in space to calculate E field\n",
    "scale1=1.2*mag(rpoint1)/8000 #used to scale the arrows representing E-field\n",
    "\n",
    "while theta<2*pi:\n",
    "    rpiece1=R*vector(cos(theta),sin(theta),0) #location of piece\n",
    "    r1=rpoint1-rpiece1 #vector from piece to point in space\n",
    "    rmag1=mag(r1) #magnitude of r\n",
    "    rhat1=norm(r1) #unit vector for r\n",
    "    dE1=oofpez*dq/rmag1/rmag1*rhat1 #Electric field due to piece at rpoint\n",
    "    Enet1=Enet1+dE1 #net electric field of the first one up to this one\n",
    "    theta=theta+dtheta\n",
    "\n",
    "print(\"The net electric field = \",Enet1, \"N/C\")\n",
    "Evector1=arrow(pos=rpoint1, axis=scale1*Enet1, color=color.blue, shaftwidth=point.radius/2)\n",
    "\n",
    "theta=dtheta/2\n",
    "\n",
    "#draw the objects\n",
    "Enet2=vector(0,0,0)\n",
    "point2=sphere(pos=vector(-0.013,0,0), color=color.black, radius=0.0005)\n",
    "\n",
    "rpoint2=point2.pos #location of the point in space to calculate E field\n",
    "scale2=1.2*mag(rpoint2)/8000 #used to scale the arrows representing E-field\n",
    "\n",
    "while theta<2*pi:\n",
    "    rpiece2=R*vector(cos(theta),sin(theta),0) #location of piece\n",
    "    r2=rpoint2-rpiece2 #vector from piece to point in space\n",
    "    rmag2=mag(r2) #magnitude of r\n",
    "    rhat2=norm(r2) #unit vector for r\n",
    "    dE2=oofpez*dq/rmag2/rmag2*rhat2 #Electric field due to piece at rpoint\n",
    "    Enet2=Enet2+dE2 #net electric field of the first one up to this one\n",
    "    theta=theta+dtheta\n",
    "\n",
    "print(\"The net electric field = \",Enet2, \"N/C\")\n",
    "Evector2=arrow(pos=rpoint2, axis=scale2*Enet2, color=color.orange, shaftwidth=point.radius/2)"
   ]
  },
  {
   "cell_type": "markdown",
   "metadata": {},
   "source": [
    "Part 2:"
   ]
  },
  {
   "cell_type": "code",
   "execution_count": 4,
   "metadata": {},
   "outputs": [
    {
     "data": {
      "text/html": [
       "<div id=\"glowscript\" class=\"glowscript\"></div>"
      ],
      "text/plain": [
       "<IPython.core.display.HTML object>"
      ]
     },
     "metadata": {},
     "output_type": "display_data"
    },
    {
     "data": {
      "application/javascript": [
       "window.__context = { glowscript_container: $(\"#glowscript\").removeAttr(\"id\")}"
      ],
      "text/plain": [
       "<IPython.core.display.Javascript object>"
      ]
     },
     "metadata": {},
     "output_type": "display_data"
    },
    {
     "name": "stdout",
     "output_type": "stream",
     "text": [
      "The net electric field =  <-0.000000, 0.000000, 164828.214909> N/C\n",
      "The net electric field =  <-0.000000, -0.000000, 180314.949785> N/C\n",
      "The net electric field =  <0.000000, 0.000000, 219931.747985> N/C\n"
     ]
    }
   ],
   "source": [
    "scene=canvas(title=\"Electric field due to a pipe with z-axis gradiated charge\")\n",
    "scene.background=color.white\n",
    "scene.camera.rotate(angle=0.4,axis=vector(-1,-1,0),origin=vector(0,0.02,0))\n",
    "\n",
    "R=0.02 #radius of ring in m\n",
    "Q=1e-9 #charge of ring in C\n",
    "N=100 #number of unique pieces\n",
    "\n",
    "oofpez=9e9 #1/(4pi epsilon_0) in N m^2/C^2\n",
    "dq=Q/N #charge of a piece\n",
    "dtheta=2*pi/N #theta increment for our loop\n",
    "theta=dtheta/2 #initial theta for first piece of loop\n",
    "\n",
    "scale=1/10000000 #used to scale the arrows representing E-field\n",
    "charge_pts = []\n",
    "\n",
    "for i in arange(-1,1.05,0.05):\n",
    "    while theta<2*pi:\n",
    "        rpiece=R*vector(cos(theta),sin(theta),i) #location of piece\n",
    "        particle=sphere(pos=rpiece, radius=0.002, color=color.yellow, opacity = 0.2) #draw a particle at center of piece\n",
    "        theta=theta+dtheta\n",
    "        point_charge_loc=[rpiece,Q]\n",
    "        charge_pts.append(point_charge_loc)\n",
    "    theta=dtheta/2\n",
    "    Q=Q-5e-11\n",
    "    \n",
    "Enet=vector(0,0,0) #net electric field of all pieces\n",
    "point=sphere(pos=vector(0,0,0), color=color.black, radius=0.0005)\n",
    "\n",
    "rpoint=point.pos #location of the point in space to calculate E field\n",
    "\n",
    "for j in charge_pts:\n",
    "    r=rpoint-j[0]\n",
    "    rmag=mag(r)\n",
    "    rhat=norm(r)\n",
    "    dE=oofpez*(j[1]/100)/rmag/rmag*rhat\n",
    "    Enet=Enet+dE\n",
    "    \n",
    "print(\"The net electric field = \",Enet, \"N/C\")\n",
    "Evector=arrow(pos=rpoint, axis=scale*Enet, color=color.green, shaftwidth=point.radius/2)\n",
    "\n",
    "Enet1=vector(0,0,0) #net electric field of all pieces\n",
    "point1=sphere(pos=vector(0.005,0.005,0), color=color.black, radius=0.0005)\n",
    "\n",
    "rpoint1=point1.pos #location of the point in space to calculate E field\n",
    "\n",
    "for j in charge_pts:\n",
    "    r1=rpoint1-j[0]\n",
    "    rmag1=mag(r1)\n",
    "    rhat1=norm(r1)\n",
    "    dE1=oofpez*(j[1]/100)/rmag1/rmag1*rhat1\n",
    "    Enet1=Enet1+dE1\n",
    "    \n",
    "print(\"The net electric field = \",Enet1, \"N/C\")\n",
    "Evector1=arrow(pos=rpoint1, axis=scale*Enet1, color=color.blue, shaftwidth=point.radius/2)\n",
    "\n",
    "Enet2=vector(0,0,0) #net electric field of all pieces\n",
    "point2=sphere(pos=vector(-0.013,0,0), color=color.black, radius=0.0005)\n",
    "\n",
    "rpoint2=point2.pos #location of the point in space to calculate E field\n",
    "\n",
    "for j in charge_pts:\n",
    "    r2=rpoint2-j[0]\n",
    "    rmag2=mag(r2)\n",
    "    rhat2=norm(r2)\n",
    "    dE2=oofpez*(j[1]/100)/rmag2/rmag2*rhat2\n",
    "    Enet2=Enet2+dE2\n",
    "    \n",
    "print(\"The net electric field = \",Enet2, \"N/C\")\n",
    "Evector2=arrow(pos=rpoint2, axis=scale*Enet2, color=color.orange, shaftwidth=point.radius/2)"
   ]
  },
  {
   "cell_type": "markdown",
   "metadata": {},
   "source": [
    "# Problem 7:"
   ]
  },
  {
   "cell_type": "markdown",
   "metadata": {},
   "source": [
    "*Summary of relevant information from http://folk.ntnu.no/johnof/magnetism-2012.pdf:*\n",
    "\n",
    "The Heisenburg model of magnetism, which helps to explain two important types of magnetism (ferromagnetism and antiferromagnetism), can be quickly understood by allowing for a hamiltonian for a lattice in *d* dimensions that looks like:\n",
    "\n",
    "$H = \\frac{1}{2}\\sum_{i,j} J_{ij}(S_{i}*S_{j})$\n",
    "\n",
    "In this hamiltonian, the sum is over all nearest neighbors in the lattice. This is the reason for the 1/2 prefactor because we don't want to count a nearest neighbor pair twice. The $S_{i}$ and $S_{j}$'s are the spin operators for lattice sites i or j respectively. The commutation relations for two components of the total spin operator on a single lattice site follow the normal commutation relation\n",
    "\n",
    "$[S_{x}^i,S{y}^i] = ihS_{z}^i$\n",
    "\n",
    "The operation of $S_{i}*S_{j}$ is the exchange operation (this is a dot product), and the $J_{ij}$'s are the exchange coefficients. It was stated before that for non-nearest-neighbors in the lattice, $J_{ij} = 0$. This leaves us with two other possibilities which are: $J_{ij} > 0$ or $J_{ij} < 0$. If we have the former, we will see that the interaction energy causes a spin orientation one would classify as antiferromagnetism, whereas the latter results in ferromagnetism.\n",
    "\n",
    "The Heisenburg model can be  used in conjunction with the Hubbard model which models how the electrons interact with other electrons in a lattice. We can begin to understand this model with an interaction hamiltonian between electrons at specific lattice sites. This example assumes that there is one electron per lattice points so that if there are *N* lattice points, there are *N* electrons in the lattice. I won't go through the trouble of using LaTex to write out this hamiltonian specifically. For the purposes of this research paper, it will suffice to say that the first term of the Hubbard hamiltonian describes the kinetic energy it takes for an electron to move to a nearest neighbor site. The second term describes the energy of having two electrons at a single lattice site (of course the Pauli-exclusion principle is still valid). This model ignores interactions between electrons at different lattice sites.\n",
    "\n",
    "To find the lowest possible energy configuration, one has to minimize the interaction energy between electrons. Then we can just treat the kinetic energy of electrons moving to new lattice points as a perturbation. Since we want the configuration with the lowest energy, this is the configuration where each lattice site only has one electron. This will determine the charge distribution of electrons. Now considering the spin distribution, if we have alternating spins in successive lattice points, the electrons will be able to \"hop\" to the next lattice point because the Pauli-exclusion principle is not violated, and the interaction energy will have to be lower since \"hopping\" in a ferromagnetic case of this type would be forbidden. Then, assuming the electrons have low enough energy such that they won't \"hop\", this describes the Heisenburg antiferromagnet. This paper from NTNU does not describe the ferromagnetic case using the Hubbard model.\n",
    "\n",
    "It is also pertinent to talk about the temperature dependence of spins in a lattice. At high temperatures, large thermal fluctuations means that the average ordering of the spins results in a net-zero spin for the lattice both quantum mechanically and thermally ($<S_{i}> = 0$). This would also mean that once the temperature gets low enough, there will be some ordering to the spins of the constituent electrons. We can define this temperature threshold as: $T_{C}$, the Curie temperature (ferromagnets), or $T_{N}$, the Neel temperature (antiferromagnets)."
   ]
  }
 ],
 "metadata": {
  "kernelspec": {
   "display_name": "VPython",
   "language": "python",
   "name": "vpython"
  },
  "language_info": {
   "codemirror_mode": {
    "name": "ipython",
    "version": 2
   },
   "file_extension": ".py",
   "mimetype": "text/x-python",
   "name": "python",
   "nbconvert_exporter": "python",
   "pygments_lexer": "ipython2",
   "version": "2.7.13"
  }
 },
 "nbformat": 4,
 "nbformat_minor": 2
}
