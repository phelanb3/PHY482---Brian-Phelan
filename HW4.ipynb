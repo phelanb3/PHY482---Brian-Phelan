{
 "cells": [
  {
   "cell_type": "markdown",
   "metadata": {},
   "source": [
    "Brian Phelan\n",
    "\n",
    "**9 February 2018**\n",
    "\n",
    "*HW4*"
   ]
  },
  {
   "cell_type": "markdown",
   "metadata": {},
   "source": [
    "# Problem 5:"
   ]
  },
  {
   "cell_type": "markdown",
   "metadata": {},
   "source": [
    "The physical origins of ferromagnetism and antiferromagnetism are very interesting when viewed through a quantum mechanical lens. The phenomena of ferromagnetism and antiferromagnetism are manifestations of ordered spins in a lattice of atoms. For simplicity, it may be easiest to read this paper in the context of a 2D square lattice of atoms. This is one of the most simple configurations one can imagine for a lattice of atoms. In ferromagnetic materials, the spins of the constituent atoms \"spontaneously\" align such that they all point in the same direction i.e. they are parallel. This alignment of magentic moments usually occurs within specific magnetic domains of the atom. Within these domains, the spins of the constituent atoms align in ferromagnetic materials. At very low temperatures, or in the presence of an external magnetic field, the moments of these domains will align as well. These distance scales of these domains are large enough such that the boundries of domains can sometimes be determined by observing the material through a microscope. Antiferromagnetism is pretty much what it sounds like. The spins of the consituent atoms in the material become anti-aligned i.e. antiparallel. We can imagine, for a 2D square lattice, this means that if the lattice point of interest has spin $m_s = +\\frac{1}{2}$, the four nearest neighbors of that lattice site will all have spins $m_s = -\\frac{1}{2}$. Again, this antialignment throughout the bulk of the material is only possible at very low temperatures. Above a certain temperture, antiferromagnetic materials are usually paramagnetic which means the spins of the lattice sites will align themselves antiparallel to an applied magnetic field.\n",
    "\n",
    "Although we can possibly discuss the effects (and very crudely, the possible causes) of these types of magetism in a classical sense, it can be much more helpful to discuss these phenomena in terms of quantum mechanics. One very famous theory of spin interactions in a lattice of atoms is the Heisenberg model. Without delving into the complete derivation of this model, it will suffice to solely mention and breifly explain the hamiltonian of this model:\n",
    "\n",
    "$H = \\frac{1}{2}\\sum_{i,j} J_{ij}(S_{i}*S_{j})$\n",
    "\n",
    "Surprisingly, this hamiltonian is fairly simple. The hamiltonian is the sum of the nearest neighbor spin interactions which is represented by the dot product of the spins of nearest neighbor atoms: $(S_{i}*S_{j})$. The coefficients that multiply this spin interaction are coefficients that determine the nature of the interaction. For non-nearest neighbors, $J_{ij} = 0$. For nearest neighbors, we can have: $J_{ij} > 0, J_{ij} < 0$, which represent antiferromagnetism and ferromagnetism respectively. Trying to understand this hamiltonian and use it as is would not allow us to derive the specific situations of magnetism. We have to give this hamiltonian context or make some assumptions that would allow us to determine the coefficients. We can do this by using similar models in conjunction with the Heisenberg model to derive specific magnetic situations. This is the route that I plan to take in order to explain antiferromagnetism.\n",
    "\n",
    "We will use the Hubbard model to hopefully derive a form of the Heisenberg hamiltonian that is specific to the antiferromagnetic case. The Hubbard model makes an assumption about the lattice: each lattice site can only support one state (which means each lattice site can only contain a maximum of two electrons) and the Pauli principle asserts that if two electrons occupy the same lattice point, their spin orientations must be opposite. The hamiltonian of the Hubbard model consists of two terms: $H = H_0 + H_1$. The first term, $H_0$, is a term that represents the Coulomb repulsion of electrons that occupy the same lattice point. The second term, $H_1$, is a term that represents the kinetic energy of electrons that \"hop\" from site to site. Next, we assume that the lattice as a whole is in its ground state configuration. In this ground state, the \"hopping\" term allows for a superposition of electrons on any given lattice point. We can think of this \"hopping\" as a sea of electrons that have some probability distribution of their location. Because of this superposition, the Coulomb term of the Hubbard hamiltonian is huge. Conversely, we can consider the Coulomb term which prefers one or fewer electrons per site as to reduce the Coulomb repulsion betweeen electrons. We see now that each term in the ground state is in competition to lower the overall energy of the system. Therefore, we will have to treat the Hamiltonian as just the $H_0$ (Coulomb) term and the \"hopping\" term will be treated as a perturbation. This $H_0$ term looks like:\n",
    "\n",
    "$H_0 = \\frac{1}{2}I\\sum_{i\\sigma} n_{i\\sigma}n_{i-\\sigma}$\n",
    "\n",
    "This term is proportional to the electrostatic energy, $I$. The $n$'s count the number of sites that have two electrons with opposite spin (the $\\frac{1}{2}$ accounts for double counting). The eigenvalues for the $H_0$ term has eigenvalues of $nI$ which is the number of sites with two electrons times the electrostatic energy. In the ground state, when we apply a first order perturbation, we see that the first order perturbation term is zero unless the quantum number $n$ (different from the $n$ representing number of sites with two electrons) is equal to 1. Then we attempt to solve the second order perturbation in the ground state. I plan on writing out the derivation in my actual paper, but to be brief, I will only write down the result of this second order perturbation calculation:\n",
    "\n",
    "$H_{eff} = P_0(\\sum_{kl}^{'}|T_{kl}|^{2}(2S_l*S_k - \\frac{1}{2})/I)P_0$\n",
    "\n",
    "The $P_0$'s are operators that constrain the system to the subspace of states with quantum number $n = 0$. We can see that this hamiltonian looks just like the Heisenberg hamiltonian where $J_{ij} = |T_{kl}|^2$. Since $J_{ij} > 0$, we have just described the antiferromagnetic case using the Hubbard model to derive a form of the Heisenberg hamiltonian.\n",
    "\n",
    "Now that we have described the antiferromagnetic case, describing the ferromagnetic case would be a natural next step. To describe the ferromagnetic case, we will not be needing the Hubbard model, only the Heisenberg model. To begin, there are a couple assumptions that we must make: the spin interactions in the lattice are the dominating interactions, the particles of interest are fermions, and the spin interactions are anisotropic. Now that we've laid out some of our assumptions, we can re-write the Heisenberg hamiltonian like:\n",
    "\n",
    "$H = \\frac{1}{2}\\sum_{i,j} J_{ij}(S_{i}^{x}S_{j}^{x} + S_{i}^{y}S_{j}^{y} + S_{i}^{z}S_{j}^{z})$   (1)\n",
    "\n",
    "We've labeled this equation, equation (1). In this equation, it can be shown that the $x$, $y$, or $z$ components of spin do not commute with eachother. Therefore, we define the total spin $S$ as:\n",
    "\n",
    "$S = \\sum_{i}S_i$\n",
    "\n",
    "Defining the total spin this way, and using the fact that a single component of the total spin will commute with at least one component of the hamiltonian, it is possible to define a state that is an eigenstate of $H$, $S^2$, and $S_z$.  Now we consider the state in which all the spins are aligned which results in the maximum value for the total spin. The state is just the product of each individual electron state at its maximum spin value:\n",
    "\n",
    "$|\\psi> = |S_1,m_1>*|S_2,m_2>*|S_3,m_3>...$\n",
    "\n",
    "Next we can act on this wavefunction with the hamiltonian (1) above. If we do this, we can rearrang the $x$ and $y$ spin dot products into raising and lowering operators for the spin quantum number $m_s$. The $z$ spin dot product is left unaltered. Once we do this operation, we will see that:\n",
    "\n",
    "$H|\\psi> = -\\frac{1}{2}S^2\\sum_{ij}J_{ij}|\\psi>$\n",
    "\n",
    "Remember, this is true for a state which has maximized spin for each state and each spin is aligned parallel with its nearest neighbor. Now considering a state $|\\psi>$, not necessarily having maximum total spin, we can take the expectation value of $H$ with this state:\n",
    "\n",
    "$<\\psi|H|\\psi> = -\\frac{1}{2}\\sum_{ij}J_{ij}(\\frac{1}{2}<\\psi|S_i^+S_j^-|\\psi> + \\frac{1}{2}<\\psi|S_i^-S_j^+|\\psi> + <\\psi|S_i^zS_j^z|\\psi>) =  -\\frac{1}{2}\\sum_{ij}J_{ij}m_im_j$\n",
    "\n",
    "If $J_{ij} >= 0$ for all $i,j$, then $J_{ij}m_im_j <= J_{ij}S^2$. And since the states described are states with eigenvalues that are less than the maximum possible eigenvalues, $-\\frac{1}{2}S^2\\sum_{ij}J_{ij}$, and since we assumed that $J_{ij} >= 0$ (exchange interactions are positive), we have described the ground state of the Heisenberg model in the ferromagnetic case. (Note: I said earlier that if $J_{ij} > 0$ that this means we have antiferromagnetism but since there is a $\"-\"$ sign in this expectation value than we actually have $J_{ij} < 0$ which is the ferromagnetic case).\n",
    "\n",
    "*References (not complete MLA citation, and not necessarily listed in order used):*\n",
    "\n",
    "https://www.physik.tu-dresden.de/~timm/personal/teaching/thmag_w09/lecturenotes.pdf\n",
    "\n",
    "http://materias.df.uba.ar/e2a2013c2/files/2012/07/From-Hubbard-to-Heis-AJP000044.pdf\n",
    "\n",
    "http://folk.ntnu.no/johnof/magnetism-2012.pdf\n",
    "\n",
    "https://en.wikipedia.org/wiki/Antiferromagnetism\n",
    "\n",
    "https://en.wikipedia.org/wiki/Ferromagnetism"
   ]
  }
 ],
 "metadata": {
  "kernelspec": {
   "display_name": "Python 2",
   "language": "python",
   "name": "python2"
  },
  "language_info": {
   "codemirror_mode": {
    "name": "ipython",
    "version": 2
   },
   "file_extension": ".py",
   "mimetype": "text/x-python",
   "name": "python",
   "nbconvert_exporter": "python",
   "pygments_lexer": "ipython2",
   "version": "2.7.13"
  }
 },
 "nbformat": 4,
 "nbformat_minor": 2
}
